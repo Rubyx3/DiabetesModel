{
  "nbformat": 4,
  "nbformat_minor": 0,
  "metadata": {
    "colab": {
      "provenance": []
    },
    "kernelspec": {
      "name": "python3",
      "display_name": "Python 3"
    },
    "language_info": {
      "name": "python"
    }
  },
  "cells": [
    {
      "cell_type": "code",
      "source": [
        "#dataset from kagglehub\n",
        "import kagglehub\n",
        "\n",
        "# Download latest version\n",
        "path = kagglehub.dataset_download(\"uciml/pima-indians-diabetes-database\")\n",
        "\n",
        "print(\"Path to dataset files:\", path)"
      ],
      "metadata": {
        "id": "HGbGLVhCbdTG"
      },
      "execution_count": null,
      "outputs": []
    },
    {
      "cell_type": "code",
      "source": [
        "#imports\n",
        "import pandas as pd\n",
        "import numpy as np\n",
        "\n",
        "#dataset loading\n",
        "buffer = path + '/diabetes.csv' #Honestly might as well just attach a local copy of the dataset\n",
        "try:\n",
        "   initial_diabetes = pd.read_csv(buffer)\n",
        "except:\n",
        "   initial_diabetes = pd.read_csv('/diabetes.csv') #Which is what exactly this is for(local copy)\n",
        "\n",
        "#What are the attributes\n",
        "print(\"Dataset Shape:\", initial_diabetes.shape)\n",
        "initial_diabetes.head()"
      ],
      "metadata": {
        "id": "psL3eEAnnjNH"
      },
      "execution_count": null,
      "outputs": []
    },
    {
      "cell_type": "code",
      "source": [
        "#Cleaning the data/Preprocessing\n",
        "diabetes = initial_diabetes.dropna() #Removes rows with empty cells(an entirely new DataFrame)\n",
        "diabetes.drop_duplicates(inplace = True) #Removes duplicate rows #(inplace = True) will make sure that the method does NOT return a new DataFrame"
      ],
      "metadata": {
        "id": "Y6aUTwp9tTDb"
      },
      "execution_count": null,
      "outputs": []
    },
    {
      "cell_type": "code",
      "source": [
        "#Visualize pairplots to see the distribution of attributes for disease outcome\n",
        "import seaborn as sns\n",
        "import matplotlib.pyplot as plt\n",
        "sns.pairplot(diabetes, hue='Outcome')\n",
        "plt.show()"
      ],
      "metadata": {
        "id": "3IUGNEcRwS1B"
      },
      "execution_count": null,
      "outputs": []
    },
    {
      "cell_type": "code",
      "source": [
        "#Box and whiskers\n",
        "print(\"\\nBoxplots of features grouped by target:\")\n",
        "plt.figure(figsize=(15, 30))\n",
        "for i, col in enumerate(diabetes.columns[:-1]):\n",
        "    plt.subplot(4, 2, i+1)\n",
        "    sns.boxplot(x='Outcome', y=col, data=diabetes)\n",
        "    plt.title(f'Boxplot of {col} by Outcome')\n",
        "plt.tight_layout()\n",
        "plt.show()\n"
      ],
      "metadata": {
        "id": "h3ytsZZZwy_X"
      },
      "execution_count": null,
      "outputs": []
    },
    {
      "cell_type": "code",
      "source": [
        "#Preparing x and y\n",
        "x = diabetes.drop(columns=['Outcome']) #Attributes\n",
        "y = diabetes['Outcome'] #Target\n",
        "\n",
        "#Train test split\n",
        "from sklearn.model_selection import train_test_split\n",
        "x_train, x_test, y_train, y_test = train_test_split(x, y, test_size=0.2, random_state=0)\n",
        "#Random State Controls the shuffling applied to the data before applying the split but only if there is even shuffling(Default is true).\n",
        "#Test Size: If float, should be between 0.0 and 1.0 and represent the proportion of the dataset to include in the test split. The Train size not included should be the complement of Test size.\n",
        "\n",
        "#diabetes with column train\n",
        "diabetes_train = {\n",
        "    'attributes': x_train, #attribute table\n",
        "    'target': y_train #target table\n",
        "}\n",
        "\n",
        "#diabetes with column test\n",
        "diabetes_test = {\n",
        "  'attributes': x_test,\n",
        "  'target': y_test\n",
        "}\n"
      ],
      "metadata": {
        "id": "8smnevssx9u1"
      },
      "execution_count": null,
      "outputs": []
    },
    {
      "cell_type": "code",
      "source": [
        "#Training portion\n",
        "from sklearn.tree import DecisionTreeClassifier\n",
        "dtc = DecisionTreeClassifier(criterion='gini', random_state=0) #Testing if setting random state to an Int will alter its deterministic nature(It does) (The seed 100 generates a better accuracy result than 0)\n",
        "dtc.fit(diabetes_train['attributes'], diabetes_train['target'])"
      ],
      "metadata": {
        "id": "5VHpork1rkys"
      },
      "execution_count": null,
      "outputs": []
    },
    {
      "cell_type": "code",
      "source": [
        "#Testing portion\n",
        "predict = dtc.predict(diabetes_test['attributes'])\n",
        "predict"
      ],
      "metadata": {
        "id": "g9qvW-y_tITr"
      },
      "execution_count": null,
      "outputs": []
    },
    {
      "cell_type": "code",
      "source": [
        "pd.DataFrame(list(zip(diabetes_test['target'], predict)), columns=['Target', 'Predicted'])\n",
        "#first part of the parameter is data input with indexing, second part is just the columns set"
      ],
      "metadata": {
        "id": "mkc0wtK9_xMy"
      },
      "execution_count": null,
      "outputs": []
    },
    {
      "cell_type": "code",
      "source": [
        "accuracy = dtc.score(diabetes_test['attributes'], diabetes_test['target'])\n",
        "print(f'Accuracy: {accuracy:.6f}') #to the degree of 6 floating points"
      ],
      "metadata": {
        "id": "KrXkzUOZDMDz"
      },
      "execution_count": null,
      "outputs": []
    },
    {
      "cell_type": "code",
      "source": [
        "import matplotlib.pyplot as plt\n",
        "max_depths = [1,5,8,13,21,34]\n",
        "training_accuracy =[]\n",
        "testing_accuracy = []\n",
        "for md in max_depths:\n",
        "  dtc = DecisionTreeClassifier(max_depth=md)\n",
        "  dtc.fit(diabetes_train['attributes'],diabetes_train['target'])\n",
        "  train = dtc.score(diabetes_train['attributes'],diabetes_train['target'])\n",
        "  test = dtc.score(diabetes_test['attributes'],diabetes_test['target'])\n",
        "  training_accuracy.append(train)\n",
        "  testing_accuracy.append(test)\n",
        "plt.plot(max_depths, training_accuracy, label='training accuracy')\n",
        "plt.plot(max_depths, testing_accuracy, label='testing accuracy')\n",
        "plt.xlabel('max depth')\n",
        "plt.ylabel('accuracy')\n",
        "plt.legend()\n",
        "plt.show()"
      ],
      "metadata": {
        "id": "5USGj9gb30hI"
      },
      "execution_count": null,
      "outputs": []
    },
    {
      "cell_type": "code",
      "source": [
        "from sklearn.metrics import roc_curve, auc\n",
        "\n",
        "max_depths = [1,5,8,13,21,34]\n",
        "plt.figure(figsize=(10, 8))  # Set figure size\n",
        "\n",
        "# Loop through each max_depth\n",
        "for md in max_depths:\n",
        "    dtc = DecisionTreeClassifier(max_depth=md)\n",
        "    dtc.fit(diabetes_train['attributes'], diabetes_train['target'])\n",
        "\n",
        "    # Predict probabilities for the test set\n",
        "    y_prob = dtc.predict_proba(diabetes_test['attributes'])[:, 1]  # Probabilities for the positive class #Index Slicing\n",
        "\n",
        "    # Compute the ROC curve and AUC\n",
        "    fpr, tpr, thresholds = roc_curve(diabetes_test['target'], y_prob, pos_label=None) #pos_label:The label of the positive class. When pos_label=None, if y_true is in {-1, 1} or {0, 1}, pos_label is set to 1, otherwise an error will be raised.\n",
        "    roc_auc = auc(fpr, tpr) #Area under curve\n",
        "\n",
        "    # Plot the ROC curve\n",
        "    plt.plot(fpr, tpr, label=f'max_depth={md}, AUC={roc_auc:.2f}') #true positive, false postive\n",
        "\n",
        "# Plot diagonal line for reference\n",
        "plt.plot([0, 1], [0, 1], 'k--', label='Reference')\n",
        "\n",
        "# Add labels, legend, and title\n",
        "plt.xlabel('False Positive Rate (FPR)')\n",
        "plt.ylabel('True Positive Rate (TPR)')\n",
        "plt.title('ROC Curve for Different max_depths')\n",
        "plt.legend()\n",
        "plt.grid()\n",
        "plt.show()"
      ],
      "metadata": {
        "id": "ZPLMnClTO08c"
      },
      "execution_count": null,
      "outputs": []
    },
    {
      "cell_type": "code",
      "source": [
        "#Train again for the plotting\n",
        "dtc = DecisionTreeClassifier(criterion='gini', random_state=0)\n",
        "dtc.fit(diabetes_train['attributes'], diabetes_train['target'])"
      ],
      "metadata": {
        "id": "XXx5Cjzbi-b7"
      },
      "execution_count": null,
      "outputs": []
    },
    {
      "cell_type": "code",
      "source": [
        "#How does the decision tree look like\n",
        "from sklearn.tree import plot_tree\n",
        "plt.figure(figsize=[100,100]) #The visualization is fit automatically to the size of the axis. Use the figsize or dpi arguments of plt.figure to control the size of the rendering.\n",
        "tree = plot_tree(dtc, feature_names=x.columns.tolist(), #class_name not needed since result is binary\n",
        "          filled=True, rounded=True) #filled: When set to True, paint nodes to indicate majority class for classification, extremity of values for regression, or purity of node for multi-output."
      ],
      "metadata": {
        "id": "b1-YEZ-Rjem2"
      },
      "execution_count": null,
      "outputs": []
    },
    {
      "cell_type": "code",
      "source": [
        "#Define Colormap for Visualization\n",
        "from matplotlib import cm\n",
        "from matplotlib.colors import ListedColormap\n",
        "colormap = cm.get_cmap('tab20')\n",
        "cm_dark = ListedColormap(colormap.colors[::2])\n",
        "cm_light = ListedColormap(colormap.colors[1::2])"
      ],
      "metadata": {
        "id": "pw709XgqrGVe"
      },
      "execution_count": null,
      "outputs": []
    },
    {
      "cell_type": "code",
      "source": [
        "#Initialize Accuracy Storage Variables\n",
        "all_acc = []\n",
        "all_acc_cols = []"
      ],
      "metadata": {
        "id": "iclWI07yrI0R"
      },
      "execution_count": null,
      "outputs": []
    },
    {
      "cell_type": "code",
      "source": [
        "#Generate Feature Combinations\n",
        "att_cols = diabetes_train['attributes'].columns\n",
        "all_comb = []\n",
        "for horiz in att_cols:\n",
        "  for vert in att_cols:\n",
        "    if horiz is vert or [horiz,vert] in all_comb or [vert, horiz] in all_comb:\n",
        "      continue\n",
        "    all_comb.append([horiz, vert])"
      ],
      "metadata": {
        "id": "ohHkdJjrrKbs"
      },
      "execution_count": null,
      "outputs": []
    },
    {
      "cell_type": "code",
      "source": [
        "import numpy as np\n",
        "max_depth = None\n",
        "dtc = DecisionTreeClassifier(random_state=100, max_depth = 34) #can't afford to unlimited max depth due to sheer volume of the dataset\n",
        "#Iterate through all feature pairs\n",
        "for i, [h,v] in enumerate(all_comb):\n",
        "  fig, ax = plt.subplots(1, 2, figsize = [40,20])\n",
        "\n",
        "  dtc.fit(diabetes_train['attributes'][[h,v]], diabetes_train['target'])\n",
        "  plot_tree(dtc, feature_names = diabetes_train['attributes'][[h,v]].columns.to_list(),\n",
        "            ax=ax[0], filled=True, rounded=True)\n",
        "\n",
        "  x_min = diabetes_train['attributes'][h].min()\n",
        "  x_max = diabetes_train['attributes'][h].max()\n",
        "  x_range = x_max - x_min\n",
        "  x_min = x_min - 0.1 * x_range\n",
        "  x_max = x_max + 0.1 * x_range\n",
        "  y_min = diabetes_train['attributes'][v].min()\n",
        "  y_max = diabetes_train['attributes'][v].max()\n",
        "  y_range = y_max - y_min\n",
        "  y_min = y_min - 0.1 * y_range\n",
        "  y_max = y_max + 0.1 * y_range\n",
        "  xx, yy = np.meshgrid(np.arange(x_min, x_max, .01*y_range), np.arange(y_min,y_max, .01*y_range))\n",
        "  z = dtc.predict(list(zip(xx.ravel(), yy.ravel())))\n",
        "  z = z.reshape(xx.shape)\n",
        "\n",
        "  plt.sca(ax[1])\n",
        "  plt.pcolormesh(xx,yy,z,cmap=cm_light)\n",
        "\n",
        "  plt.rcParams.update({'font.size': 30})\n",
        "  ax[1].scatter(diabetes_train['attributes'][h], diabetes_train['attributes'][v],\n",
        "                c=diabetes_train['target'], cmap=cm_dark, s=200,\n",
        "                label='Training data', edgecolor='black', linewidth=1)\n",
        "  ax[1].scatter(diabetes_test['attributes'][h], diabetes_test['attributes'][v],\n",
        "                c=diabetes_test['target'], cmap=cm_dark, s=200,\n",
        "                label = 'Testing data', edgecolor='black', linewidth=1, marker='*')\n",
        "  train_acc = dtc.score(diabetes_train['attributes'][[h,v]], diabetes_train['target'])\n",
        "  test_acc = dtc.score(diabetes_test['attributes'][[h,v]], diabetes_test['target'])\n",
        "  ax[1].set_title(f'training:{train_acc:.3f}, testing:{test_acc:.3f}')\n",
        "  ax[1].set_xlabel(h)\n",
        "  ax[1].set_ylabel(v)\n",
        "  ax[1].legend()\n",
        "\n",
        "  all_acc.append([1, h, v, max_depth, train_acc, test_acc])\n",
        "\n",
        "all_acc_cols = ['i', 'attribute 1', 'attribute 2', 'max depth 1', 'training accuracy 1', 'testing accuracy 1']\n",
        "\n",
        "\n",
        "\n"
      ],
      "metadata": {
        "id": "zY2omUHmrMDa"
      },
      "execution_count": null,
      "outputs": []
    },
    {
      "cell_type": "code",
      "source": [
        "import numpy as np\n",
        "max_depth = 3\n",
        "dtc = DecisionTreeClassifier(random_state=100, max_depth = max_depth)\n",
        "for i, [h,v] in enumerate(all_comb):\n",
        "  fig, ax = plt.subplots(1, 2, figsize = [40,20])\n",
        "\n",
        "  dtc.fit(diabetes_train['attributes'][[h,v]], diabetes_train['target'])\n",
        "  plot_tree(dtc, feature_names = diabetes_train['attributes'][[h,v]].columns.to_list(),\n",
        "            ax=ax[0], filled=True, rounded=True)\n",
        "\n",
        "  x_min = diabetes_train['attributes'][h].min()\n",
        "  x_max = diabetes_train['attributes'][h].max()\n",
        "  x_range = x_max - x_min\n",
        "  x_min = x_min - 0.1 * x_range\n",
        "  x_max = x_max + 0.1 * x_range\n",
        "  y_min = diabetes_train['attributes'][v].min()\n",
        "  y_max = diabetes_train['attributes'][v].max()\n",
        "  y_range = y_max - y_min\n",
        "  y_min = y_min - 0.1 * y_range\n",
        "  y_max = y_max + 0.1 * y_range\n",
        "  xx, yy = np.meshgrid(np.arange(x_min, x_max, .01*y_range), np.arange(y_min,y_max, .01*y_range))\n",
        "  z = dtc.predict(list(zip(xx.ravel(), yy.ravel())))\n",
        "  z = z.reshape(xx.shape)\n",
        "\n",
        "  plt.sca(ax[1])\n",
        "  plt.pcolormesh(xx,yy,z,cmap=cm_light)\n",
        "\n",
        "  plt.rcParams.update({'font.size': 30})\n",
        "  ax[1].scatter(diabetes_train['attributes'][h], diabetes_train['attributes'][v],\n",
        "                c=diabetes_train['target'], cmap=cm_dark, s=200,\n",
        "                label='Training data', edgecolor='black', linewidth=1)\n",
        "  ax[1].scatter(diabetes_test['attributes'][h], diabetes_test['attributes'][v],\n",
        "                c=diabetes_test['target'], cmap=cm_dark, s=200,\n",
        "                label = 'Testing data', edgecolor='black', linewidth=1, marker='*')\n",
        "  train_acc = dtc.score(diabetes_train['attributes'][[h,v]], diabetes_train['target'])\n",
        "  test_acc = dtc.score(diabetes_test['attributes'][[h,v]], diabetes_test['target'])\n",
        "  ax[1].set_title(f'training:{train_acc:.3f}, testing:{test_acc:.3f}')\n",
        "  ax[1].set_xlabel(h)\n",
        "  ax[1].set_ylabel(v)\n",
        "  ax[1].legend()\n",
        "\n",
        "  all_acc[i] += [max_depth, train_acc, test_acc]\n",
        "\n",
        "all_acc_cols += ['max depth 2', 'training accuracy 2', 'testing accuracy 2']\n",
        "\n",
        "\n",
        "\n"
      ],
      "metadata": {
        "id": "D8Z9jPo3rNxk"
      },
      "execution_count": null,
      "outputs": []
    },
    {
      "cell_type": "code",
      "source": [
        "acc_table = pd.DataFrame(all_acc, columns=['i', 'attribute 1', ' attribute 2', 'max depth 1', ' train accuracy 1', 'test accuracy 1',\n",
        "                                           'max depth 2', 'train accuracy 2', ' test accuracy 2'])\n",
        "acc_table"
      ],
      "metadata": {
        "id": "9lsOMJTlrQpl"
      },
      "execution_count": null,
      "outputs": []
    }
  ]
}
